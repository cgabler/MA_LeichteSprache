{
 "cells": [
  {
   "cell_type": "code",
   "execution_count": 1,
   "metadata": {},
   "outputs": [],
   "source": [
    "import os\n",
    "import openai\n",
    "import pandas as pd\n",
    "openai.api_key = \"\""
   ]
  },
  {
   "cell_type": "code",
   "execution_count": 2,
   "metadata": {},
   "outputs": [],
   "source": [
    "message = \"Vor- oder (und) Familiennamen können in Ausnahmefällen auf Antrag geändert werden, wenn ein wichtiger Grund die Änderung rechtfertigt. Dies wird als öffentlich-rechtliche Namensänderung bezeichnet.\"\n",
    "message += \"Benötigt werden:\"\n",
    "message += \"Das Formular steht Ihnen unter Downloads und Infos zum Herunterladen zur Verfügung. Sie erhalten es auch in den Kundenzentren. Dort muss der Antrag auch abgegeben werden. Beachten Sie bitte, dass Sie den Antrag erst bei Antragsabgabe unterschreiben.\"\n",
    "message += \"aktuelle beglaubigte Abschrift aus dem Geburtsregister\"\n",
    "message += \"Sollten Sie in Deutschland geboren sein, legen Sie bitte dem Antrag eine aktuelle beglaubigte Abschrift aus dem Geburtsregister von Ihrem Geburtsstandesamt bei. Eine einfache Geburtsurkunde genügt nicht. Für den Fall, dass Sie im Ausland geboren sind und Ihre Geburt nicht bei einem deutschen Standesamt nachbeurkundet wurde, genügt eine internationale Geburtsurkunde oder eine Geburtsurkunde mit Übersetzung.\"\n",
    "message += \"aktuelle beglaubigte Abschrift aus dem Ehe- beziehungsweise Lebenspartnerschaftsregister\"\n",
    "message += \"Sollten Sie verheiratet oder verpartnert sein, fügen Sie Ihrem Antrag bitte eine beglaubigte Abschrift aus dem Ehe- beziehungsweise Lebenspartnerschaftsregister bei. Sollte Ihre Ehe oder Lebenspartnerschaft inzwischen aufgelöst sein, genügt die aktuelle Abschrift des Registers der letzten Ehe oder Lebenspartnerschaft. Die Unterlagen müssen aktuell sein, damit Ihre aktuelle Namensführung erkennbar ist.\""
   ]
  },
  {
   "cell_type": "code",
   "execution_count": 3,
   "metadata": {},
   "outputs": [
    {
     "name": "stdout",
     "output_type": "stream",
     "text": [
      "Result:  Man kann seinen Vor-Name oder Nach-Name ändern lassen. Aber nur in besonderen Fällen. Dafür braucht man einen wichtigen Grund. Das nennt man Namens-Änderung.\n",
      "\n",
      "Um das zu machen, braucht man ein Formular. Das Formular kann man herunterladen. Man kann es auch in Kundenzentren bekommen. Dort kann man das Formular auch abgeben. Man soll das Formular unterschreiben, wenn man es abgibt.\n",
      "\n",
      "Man braucht noch weitere Dokumente. Zum Beispiel eine Geburts-Urkunde. Diese Geburts-Urkunde muss von einem Amt beglaubigt sein. Eine gewöhnliche Geburts-Urkunde reicht nicht aus. Wenn man im Ausland geboren ist, kann man eine internationale Geburts-Urkunde verwenden. Oder eine Geburts-Urkunde mit Übersetzung.\n",
      "\n",
      "Falls man verheiratet ist oder in einer eingetragenen Lebens-Partnerschaft lebt, braucht man noch ein Dokument. Es ist eine beglaubigte Abschrift über die Ehe oder die Lebens-Partnerschaft. Wenn die Ehe oder Lebens-Partnerschaft beendet wurde, braucht man die beglaubigte Abschrift von der letzten Ehe oder Lebens-Partnerschaft.\n",
      "\n",
      "Diese Dokumente sind wichtig. Denn sie zeigen, wie man jetzt heißt.\n"
     ]
    }
   ],
   "source": [
    "messages = [ {\"role\": \"system\", \"content\": \n",
    "              \"Ich werde dir einen Text in Allgemeiner Sprache geben, übersetze mir diesen bitte in Leichte Sprache:\"} ]\n",
    "\n",
    "messages.append(\n",
    "    {\"role\": \"user\", \"content\": message},\n",
    ")\n",
    "chat = openai.ChatCompletion.create(\n",
    "    model=\"gpt-4\", messages=messages\n",
    ")\n",
    "print(f\"Result: \", chat.choices[0].message.content)\n"
   ]
  },
  {
   "cell_type": "code",
   "execution_count": 4,
   "metadata": {},
   "outputs": [
    {
     "name": "stdout",
     "output_type": "stream",
     "text": [
      "Result:  Vor- und Nachnamen können in Ausnahmefällen geändert werden, wenn es gute Gründe dafür gibt. Dies nennt man eine Namensänderung. Hierfür brauchen Sie Folgendes: Sie können das Formular unter \"Downloads und Infos\" herunterladen oder es in den Kundenzentren bekommen. Dort müssen Sie den Antrag abgeben. Bitte denken Sie daran, dass Sie das Formular erst unterschreiben, wenn Sie es abgeben. Wenn Sie in Deutschland geboren wurden, legen Sie bitte eine beglaubigte Kopie Ihrer Geburtsurkunde bei. Eine einfache Geburtsurkunde reicht nicht aus. Wenn Sie im Ausland geboren wurden und Ihre Geburt nicht in Deutschland registriert wurde, benötigen Sie eine internationale Geburtsurkunde oder eine übersetzte Geburtsurkunde. Wenn Sie verheiratet oder in einer Lebenspartnerschaft sind, fügen Sie bitte eine beglaubigte Kopie Ihres Ehe- oder Lebenspartnerschaftsregisters bei. Falls Ihre Ehe oder Partnerschaft inzwischen aufgelöst ist, genügt die aktuelle Kopie des Registers der letzten Ehe oder Partnerschaft. Die Unterlagen müssen aktuell sein, damit erkennbar ist, wie Ihr Name momentan lautet.\n"
     ]
    }
   ],
   "source": [
    "messages = [ {\"role\": \"system\", \"content\": \n",
    "              \"Ich werde dir einen Text in Allgemeiner Sprache geben, übersetze mir diesen bitte in Leichte Sprache:\"} ]\n",
    "\n",
    "messages.append(\n",
    "    {\"role\": \"user\", \"content\": message},\n",
    ")\n",
    "chat = openai.ChatCompletion.create(\n",
    "    model=\"gpt-3.5-turbo\", messages=messages\n",
    ")\n",
    "print(f\"Result: \", chat.choices[0].message.content)"
   ]
  },
  {
   "cell_type": "code",
   "execution_count": 5,
   "metadata": {},
   "outputs": [],
   "source": [
    "rules = \"Hier sind die Regeln: \\n\"\n",
    "rules += \"1. Wortwahl: \\n\"\n",
    "rules += \"- Verwende einfache und kurze Wörter, z.B. \\\"erlauben\\\" statt \\\"genehmigen\\\". \\n\"\n",
    "rules += \"- Benutze klare und einfache Beschreibungen, z.B \\\"Bus und Bahn\\\" statt \\\"Öffentlicher Nahverkehr\\\". \\n\"\n",
    "rules += \"2. Fach- und Fremdwörter: \\n\"\n",
    "rules += \"- Meide Fremdwörter, z.B \\\"Arbeits-Gruppe\\\" statt \\\"Workshop\\\". \\n\"\n",
    "rules += \"- Meide Fachwörter, erkläre sie falls absolut notwendig. \\n\"\n",
    "rules += \"3. Trennung von Wörtern: \\n\"\n",
    "rules += \"- Trenne lange Wörter mit Bindestrich, z.B. \\\"Bundes-Gleichstellungs-Gesetz\\\" statt \\\"Bundesgleichstellungsgesetz\\\". \\n\"\n",
    "rules += \"4. Abkürzungen: \\n\"\n",
    "rules += \"- Vermeide Abkürzungen, schreibe sie aus, z.B. \\\"und so weiter\\\" statt \\\"usw.\\\". \\n\"\n",
    "rules += \"5. Verben statt Nomen: \\n\"\n",
    "rules += \"- Nutze Verben anstelle von Nomen, z.B. \\\"wir wählen\\\" statt \\\"die Wahl\\\". \\n\"\n",
    "rules += \"6. Aktive Sprache: \\n\"\n",
    "rules += \"- Schreibe in aktiver Form, z.B. \\\"Wir machen\\\" anstelle von \\\"Es wird gemacht\\\". \\n\"\n",
    "rules += \"7. Vermeide den Genitiv: \\n\"\n",
    "rules += \"- Vermeide den Genitiv, nutze stattdessen \\\"von\\\", \\\"von dem\\\" oder \\\"vom\\\". \\n\"\n",
    "rules += \"8. Vermeide den Konjunktiv: \\n\"\n",
    "rules += \"- Vermeide den Konjunktiv (\\\"hätte\\\", \\\"sollte\\\", \\\"könnte\\\"). \\n\"\n",
    "rules += \"9. Positive Sprache: \\n\"\n",
    "rules += \"- Benutze positive Formulierungen und vermeide Verneinungen. \\n\"\n",
    "rules += \"10. Zahlen in arabischen Ziffern: \\n\"\n",
    "rules += \"- Schreibe Zahlen in arabischen Ziffern, z.B \\\"6\\\" statt \\\"sechs\\\". \\n\"\n",
    "rules += \"11. Vermeide hohe Zahlen: \\n\"\n",
    "rules += \"- Vermeide hohe Zahlen, nutze allgemeine Beschreibungen, z.B \\\"Viele Menschen\\\". \\n\"\n",
    "rules += \"12. Sonderzeichen erklären: \\n\"\n",
    "rules += \"- Falls Sonderzeichen erforderlich sind, erkläre sie. \\n\"\n",
    "rules += \"13. Kurze Sätze: \\n\"\n",
    "rules += \"- Trenne lange Sätze und schreibe viele kurze (Richtwert: 8 Wörter pro Satz). \\n\"\n",
    "rules += \"14. Keine Kommas: \\n\"\n",
    "rules += \"- Verwende keine Kommas, schreibe eigenständige Sätze. \\n\"\n",
    "rules += \"15. Zeilenumbruch nach Sätzen: \\n\"\n",
    "rules += \"- Füge nach jedem Satz einen Zeilenumbruch ein. \\n\"\n",
    "rules += \"16. Persönliche Ansprache: \\n\"\n",
    "rules += \"- Sprich den Leser persönlich an. \\n\""
   ]
  },
  {
   "cell_type": "code",
   "execution_count": 8,
   "metadata": {},
   "outputs": [],
   "source": [
    "with_rules = \"Ich werde dir zuerst Regeln in Leichter Sprache nennen, wende diese bitte auf den nachfolgenden Text an und übersetze diesen dann von Standardsprache in Leichte Sprache. \"+rules"
   ]
  },
  {
   "cell_type": "code",
   "execution_count": 13,
   "metadata": {},
   "outputs": [
    {
     "name": "stdout",
     "output_type": "stream",
     "text": [
      "Result:  Du kannst deinen Vor-Namen oder deinen Familien-Namen ändern. \n",
      "Das geht aber nur in besonderen Fällen. \n",
      "Du musst einen Antrag stellen. \n",
      "Und du musst einen guten Grund für die Änderung haben. \n",
      "\n",
      "Man nennt das auch: Öffentliche Rechtliche Namen-Änderung. \n",
      "Du brauchst dafür verschiedene Papiere. \n",
      "Es gibt ein Formular. \n",
      "Das Formular kannst du im Internet herunter-laden. \n",
      "Den Link dazu findest du weiter unten. \n",
      "Du kannst das Formular auch in Kundenzentren holen. \n",
      "Dort gibst du deinen Antrag auch ab. \n",
      "Den Antrag unterschreibst du erst, wenn du ihn abgeben willst. \n",
      "\n",
      "Du brauchst eine beglaubigte Abschrift aus dem Geburts-Register. \n",
      "Bist du in Deutschland geboren? \n",
      "Dann füge deinem Antrag eine Abschrift aus dem Geburts-Register vom Standesamt deiner Geburts-Stadt bei. \n",
      "Eine einfache Geburts-Urkunde reicht nicht. \n",
      "\n",
      "Bist du im Ausland geboren? \n",
      "Und deine Geburt wurde nicht von einem deutschen Standesamt nachträglich gemeldet? \n",
      "Dann reicht eine internationale Geburts-Urkunde oder eine Geburts-Urkunde mit Übersetzung. \n",
      "\n",
      "Du brauchst auch eine beglaubigte Abschrift aus dem Ehe- oder Lebenspartnerschafts-Register. \n",
      "Bist du verheiratet oder hast du einen Lebens-Partner? \n",
      "Dann füge deinem Antrag eine beglaubigte Abschrift aus dem Ehe- oder Lebenspartnerschafts-Register bei. \n",
      "\n",
      "Ist deine Ehe oder Lebenspartnerschaft inzwischen beendet? \n",
      "Dann reicht eine Abschrift des Registers von deiner letzten Ehe oder Lebenspartnerschaft. \n",
      "\n",
      "Die Papiere müssen aktuell sein. \n",
      "So können wir sehen, wie dein Name jetzt ist.\n"
     ]
    }
   ],
   "source": [
    "messages = [ {\"role\": \"system\", \"content\": \n",
    "              with_rules} ]\n",
    "\n",
    "messages.append(\n",
    "    {\"role\": \"user\", \"content\": message},\n",
    ")\n",
    "chat = openai.ChatCompletion.create(\n",
    "    model=\"gpt-4\", messages=messages\n",
    ")\n",
    "print(f\"Result: \", chat.choices[0].message.content)\n",
    "\n",
    "reevaluate_gpt4 = chat.choices[0].message.content"
   ]
  },
  {
   "cell_type": "code",
   "execution_count": 14,
   "metadata": {},
   "outputs": [
    {
     "name": "stdout",
     "output_type": "stream",
     "text": [
      "Result:  Du kannst deinen Vor-Namen oder Nach-Namen ändern. \n",
      "Aber nur in besonderen Fällen. \n",
      "Dafür musst du einen Antrag schreiben. \n",
      "Und einen guten Grund haben. \n",
      "\n",
      "Das nennt man: Namen-Änderung nach dem Gesetz. \n",
      "Du brauchst verschiedene Papiere dafür. \n",
      "Es gibt ein Formular für den Antrag. \n",
      "Das Formular kannst du aus dem Internet holen. \n",
      "Oder du holst es in einem Kundenzentrum. \n",
      "Dort gibst du deinen Antrag auch ab. \n",
      "Du unterschreibst den Antrag erst, wenn du ihn abgibst. \n",
      "\n",
      "Du brauchst eine beglaubigte Abschrift aus dem Geburts-Register. \n",
      "Bist du in Deutschland geboren? \n",
      "Dann gib dem Antrag eine Abschrift von deinem Geburts-Register. \n",
      "Die Abschrift musst du vom Standesamt von deiner Geburts-Stadt holen. \n",
      "Eine normale Geburts-Urkunde ist nicht genug. \n",
      "\n",
      "Bist du im Ausland geboren? \n",
      "Und deine Geburt wurde nicht von einem deutschen Standesamt eingetragen? \n",
      "Dann reicht eine internationale Geburts-Urkunde. \n",
      "Oder eine Geburts-Urkunde mit Übersetzung. \n",
      "\n",
      "Du brauchst auch eine beglaubigte Abschrift vom Ehe- oder Lebenspartnerschafts-Register. \n",
      "Bist du verheiratet oder hast du einen Lebens-Partner? \n",
      "Dann gib dem Antrag eine Abschrift vom Ehe- oder Lebenspartnerschafts-Register. \n",
      "\n",
      "Ist deine Ehe oder Lebenspartnerschaft jetzt beendet? \n",
      "Dann reicht die Abschrift von deiner letzten Ehe oder Lebenspartnerschaft. \n",
      "\n",
      "Alle Papiere müssen aktuell sein. \n",
      "So sehen wir deinen jetzigen Namen.\n"
     ]
    }
   ],
   "source": [
    "\n",
    "messages.append(\n",
    "    {\"role\": \"assistant\", \"content\": \"Evaluiere bitte deine Übersetzung noch einmal mit den dir bekannten Regeln, korrigiere Fehler und überarbeite den Text nochmal falls nötig. Das war deine Übersetzung.\"+reevaluate_gpt4},\n",
    ")\n",
    "chat = openai.ChatCompletion.create(\n",
    "    model=\"gpt-4\", messages=messages\n",
    ")\n",
    "print(f\"Result: \", chat.choices[0].message.content)\n",
    "\n",
    "reevaluation_gpt4 = chat.choices[0].message.content"
   ]
  },
  {
   "cell_type": "code",
   "execution_count": null,
   "metadata": {},
   "outputs": [],
   "source": []
  },
  {
   "cell_type": "code",
   "execution_count": 10,
   "metadata": {},
   "outputs": [
    {
     "name": "stdout",
     "output_type": "stream",
     "text": [
      "Result:  Du kannst deinen Vornamen oder Familiennamen in Ausnahmefällen auf Antrag ändern lassen, wenn es einen wichtigen Grund dafür gibt. Dies nennt man öffentlich-rechtliche Namensänderung. Du brauchst dafür:\n",
      "- Das Formular kannst du unter Downloads und Infos herunterladen oder in den Kundenzentren erhalten. Dort musst du den Antrag auch abgeben. Bitte unterschreibe den Antrag erst bei Abgabe.\n",
      "- Wenn du in Deutschland geboren bist, lege bitte dem Antrag eine beglaubigte Abschrift aus dem Geburtsregister deines Geburtsstandesamts bei. Eine einfache Geburtsurkunde reicht nicht aus. Wenn du im Ausland geboren bist und deine Geburt nicht bei einem deutschen Standesamt registriert wurde, genügt eine internationale Geburtsurkunde oder eine Geburtsurkunde mit Übersetzung.\n",
      "- Wenn du verheiratet oder verpartnert bist, füge deinem Antrag bitte eine beglaubigte Abschrift aus dem Ehe- oder Lebenspartnerschaftsregister bei. Wenn deine Ehe oder Lebenspartnerschaft inzwischen aufgelöst ist, reicht eine aktuelle Abschrift des Registers der letzten Ehe oder Lebenspartnerschaft. Die Unterlagen müssen aktuell sein, damit deine aktuelle Namensführung erkennbar ist.\n"
     ]
    }
   ],
   "source": [
    "messages = [ {\"role\": \"system\", \"content\": \n",
    "              with_rules} ]\n",
    "\n",
    "messages.append(\n",
    "    {\"role\": \"user\", \"content\": message},\n",
    ")\n",
    "chat = openai.ChatCompletion.create(\n",
    "    model=\"gpt-3.5-turbo\", messages=messages\n",
    ")\n",
    "print(f\"Result: \", chat.choices[0].message.content)\n",
    "reevaluate_gpt3_5 = chat.choices[0].message.content\n"
   ]
  },
  {
   "cell_type": "code",
   "execution_count": null,
   "metadata": {},
   "outputs": [],
   "source": [
    "messages = [ {\"role\": \"system\", \"content\": \n",
    "              \"Evaluiere bitte deine Übersetzung noch einmal mit den dir bekannten Regeln, korrigiere Fehler und überarbeite den Text nochmal falls nötig. Das war deine Übersetzung.\"+reevaluate_gpt3_5} ]\n",
    "\n",
    "messages.append(\n",
    "    {\"role\": \"user\", \"content\": message},\n",
    ")\n",
    "chat = openai.ChatCompletion.create(\n",
    "    model=\"gpt-4\", messages=messages\n",
    ")\n",
    "print(f\"Result: \", chat.choices[0].message.content)\n",
    "\n",
    "reevaluation_gpt3_5 = chat.choices[0].message.content"
   ]
  },
  {
   "cell_type": "code",
   "execution_count": 17,
   "metadata": {},
   "outputs": [
    {
     "name": "stdout",
     "output_type": "stream",
     "text": [
      "Result:  Die Regeln für Leichte Sprache sind:\n",
      "\n",
      "1. Kurze und einfache Sätze verwenden: Die Sätze sollten nicht zu komplex sein und dürfen nur eine Information enthalten.\n",
      "\n",
      "2. Klare und verständliche Wörter verwenden: Fachbegriffe, Fremdwörter und abstrakte Begriffe sollten vermieden werden. Wenn sie unvermeidbar sind, sollten sie erklärt werden.\n",
      "\n",
      "3. Aktive Sprache verwenden: Die Verwendung von Passivsätzen sollte vermieden werden, um den Text einfacher lesbar zu machen.\n",
      "\n",
      "4. Große Schrift und übersichtliches Layout verwenden: Eine gut lesbare Schriftart und ausreichend Zeilenabstand sollten genutzt werden. Der Text sollte in Absätze gegliedert sein, um die Lesbarkeit zu verbessern.\n",
      "\n",
      "5. Veranschaulichung durch Bilder oder Symbole: Bilder oder Symbole können den Text unterstützen und helfen, die Inhalte besser zu verstehen.\n",
      "\n",
      "6. Vermeidung von Doppeldeutigkeiten: Mehrdeutige Formulierungen sollten vermieden werden, um Missverständnisse zu vermeiden.\n",
      "\n",
      "7. Verwendung von unterstützenden Textelementen: Unterüberschriften, Aufzählungen, Fragen oder Wiederholungen können helfen, den Text zu gliedern und die Informationen besser zu strukturieren.\n",
      "\n",
      "8. Übersichtliche Grammatik und einfache Zeitformen verwenden: Die Verwendung von einfachen Verbformen und Zeitformen erleichtert das Verständnis.\n",
      "\n",
      "9. Vermeidung von Schachtelsätzen: Komplexe Satzkonstruktionen sollten vermieden werden, um die Lesbarkeit zu verbessern.\n",
      "\n",
      "10. Einfacher Satzbau und klare Satzzeichen: Ein einfacher Satzbau mit klaren Satzzeichen erleichtert das Lesen und Verstehen des Textes.\n",
      "\n",
      "Diese Regeln dienen dazu, Texte in Leichter Sprache für Menschen mit Lernschwierigkeiten, geistiger Behinderung oder kognitiven Einschränkungen besser zugänglich zu machen.\n"
     ]
    }
   ],
   "source": [
    "messages = [ {\"role\": \"system\", \"content\": \n",
    "              \"Antworte dem Benutzer:\"} ]\n",
    "\n",
    "messages.append(\n",
    "    {\"role\": \"user\", \"content\": \"Nenne mir die Regeln für Leichte Sprache.\"},\n",
    ")\n",
    "chat = openai.ChatCompletion.create(\n",
    "    model=\"gpt-3.5-turbo\", messages=messages\n",
    ")\n",
    "print(f\"Result: \", chat.choices[0].message.content)"
   ]
  },
  {
   "cell_type": "code",
   "execution_count": 18,
   "metadata": {},
   "outputs": [
    {
     "name": "stdout",
     "output_type": "stream",
     "text": [
      "Result:  1. Einfache und klare Sätze: Sätze sollen kurz und einfach sein. Es soll nur eine Aussage pro Satz geben, damit der Inhalt leichter zu verstehen ist.\n",
      "\n",
      "2. Einfache Wörter: Schwierige oder unbekannte Wörter sollten vermieden werden. Stattdessen sollten allgemein verständliche Wörter verwendet werden.\n",
      "\n",
      "3. Aktive Sprache: Konstruktionen im Passiv sollten vermieden werden. Stattdessen sollte immer in der aktiven Form gesprochen werden, da diese leichter zu verstehen ist.\n",
      "\n",
      "4. Keine Abkürzungen: Abkürzungen können Verwirrung stiften und sollten daher vermieden werden. \n",
      "\n",
      "5. Direkte Ansprache: Der Leser sollte direkt angesprochen werden, um den Text greifbarer zu machen.\n",
      "\n",
      "6. Gliederung: Der Text sollte gut strukturiert und übersichtlich gestaltet sein. Überschriften, Absätze oder Aufzählungen können dabei helfen.\n",
      "\n",
      "7. Große Schrift und guter Kontrast: Die Schriftgröße sollte mindestens 16 Punkt betragen und es sollte ein guter Kontrast zwischen Schrift- und Hintergrundfarbe bestehen.\n",
      "\n",
      "8. Bilder zur Unterstützung: Wo es möglich und sinnvoll ist, sollten Bilder zur Unterstützung des Textverständnisses verwendet werden.\n",
      "\n",
      "9. Prüfung durch Zielgruppe: Der Text sollte immer von der Zielgruppe gelesen und verstanden werden können. Daher sollte er vor Veröffentlichung stets getestet werden.\n",
      "\n",
      "10. Verständliche Grammatik: Komplexe grammatische Strukturen sollten vermieden werden. Dazu gehören beispielsweise Relativsätze oder verschachtelte Nebensätze. \n",
      "\n",
      "11. Keine Fremdwörter: Fremdwörter oder Fachtermini sollten vermieden oder entsprechend erklärt werden, damit der Text für alle verständlich ist. \n",
      "\n",
      "12. Keine doppelten Verneinungen: Doppelte Verneinungen können zu Missverständnissen führen und sollten daher vermieden werden. \n",
      "\n",
      "Diese Regeln dienen dazu, Texte für Menschen mit Lese- und Verständnisschwierigkeiten zugänglicher zu machen.\n"
     ]
    }
   ],
   "source": [
    "messages = [ {\"role\": \"system\", \"content\": \n",
    "              \"Antworte dem Benutzer:\"} ]\n",
    "\n",
    "messages.append(\n",
    "    {\"role\": \"user\", \"content\": \"Nenne mir die Regeln für Leichte Sprache.\"},\n",
    ")\n",
    "chat = openai.ChatCompletion.create(\n",
    "    model=\"gpt-4\", messages=messages\n",
    ")\n",
    "print(f\"Result: \", chat.choices[0].message.content)"
   ]
  }
 ],
 "metadata": {
  "kernelspec": {
   "display_name": "base",
   "language": "python",
   "name": "python3"
  },
  "language_info": {
   "codemirror_mode": {
    "name": "ipython",
    "version": 3
   },
   "file_extension": ".py",
   "mimetype": "text/x-python",
   "name": "python",
   "nbconvert_exporter": "python",
   "pygments_lexer": "ipython3",
   "version": "3.10.9"
  }
 },
 "nbformat": 4,
 "nbformat_minor": 2
}
