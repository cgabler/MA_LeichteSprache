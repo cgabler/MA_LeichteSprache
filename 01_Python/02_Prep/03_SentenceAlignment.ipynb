{
 "cells": [
  {
   "cell_type": "markdown",
   "metadata": {},
   "source": [
    "Instructions\n",
    "\n",
    "Code was written and executed on Google Colab.  \n",
    "File and folder structure has to be changed accordingly"
   ]
  },
  {
   "cell_type": "code",
   "execution_count": null,
   "metadata": {},
   "outputs": [],
   "source": [
    "location = \"/content/drive/My Drive/1_Studium/01_MasterThesis/02_Data/\""
   ]
  },
  {
   "cell_type": "code",
   "execution_count": null,
   "metadata": {},
   "outputs": [],
   "source": [
    "!git clone https://github.com/bfsujason/bertalign"
   ]
  },
  {
   "cell_type": "code",
   "execution_count": null,
   "metadata": {},
   "outputs": [],
   "source": [
    "from google.colab import drive\n",
    "drive.mount('/content/drive')\n",
    "\n",
    "cd \"/content/drive/My Drive/Colab Notebooks/bertalign-main\"\n",
    "\n",
    "!pip install -r requirements.txt"
   ]
  },
  {
   "cell_type": "code",
   "execution_count": null,
   "metadata": {},
   "outputs": [],
   "source": [
    "from bertalign import Bertalign\n",
    "\n",
    "import pandas as pd\n",
    "#source data has to be provided\n",
    "source = \"\"\n",
    "df = pd.read_csv(location+source+\".csv\")\n",
    "\n",
    "\n",
    "df_sents = pd.DataFrame(columns=['Source', 'URL'])\n",
    "\n",
    "\n",
    "count = 0\n",
    "count_articles = 0\n",
    "for index, row in df.iterrows():\n",
    "  count_articles += 1\n",
    "  try:\n",
    "    aligner = Bertalign(row['text_leicht'], row['text_normal'])\n",
    "    aligner.align_sents()\n",
    "\n",
    "    print(\"-------------------------  \", count_articles, row['URL'])\n",
    "    for bead in (aligner.result):\n",
    "        src_line = aligner._get_line(bead[0], aligner.src_sents)\n",
    "        tgt_line = aligner._get_line(bead[1], aligner.tgt_sents)\n",
    "\n",
    "        df_article = pd.DataFrame({\n",
    "              'Source': source,\n",
    "              'URL': row[\"URL\"],\n",
    "              'sents_leicht': src_line,\n",
    "              'sents_standard': tgt_line},\n",
    "              index=[count]\n",
    "        )\n",
    "        df_sents = pd.concat([df_sents, df_article])\n",
    "\n",
    "        count += 1\n",
    "  except Exception as error:\n",
    "    # handle the exception\n",
    "    print(\"An exception occurred:\", error)\n",
    "\n",
    "source = source+'sents'\n",
    "df_sents.to_csv(location+source+\".csv\")\n"
   ]
  },
  {
   "cell_type": "code",
   "execution_count": null,
   "metadata": {},
   "outputs": [],
   "source": [
    "df_sents"
   ]
  }
 ],
 "metadata": {
  "language_info": {
   "name": "python"
  }
 },
 "nbformat": 4,
 "nbformat_minor": 2
}
