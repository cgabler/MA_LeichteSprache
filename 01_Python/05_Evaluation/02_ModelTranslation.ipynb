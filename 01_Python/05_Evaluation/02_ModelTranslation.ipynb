{
 "cells": [
  {
   "cell_type": "code",
   "execution_count": 1,
   "metadata": {},
   "outputs": [],
   "source": [
    "import torch\n",
    "from transformers import AutoTokenizer\n",
    "from transformers import AutoModelForSeq2SeqLM"
   ]
  },
  {
   "cell_type": "markdown",
   "metadata": {},
   "source": [
    "@inproceedings{anschutz-etal-2023-language,\n",
    "  title = \"Language Models for {G}erman Text Simplification: Overcoming Parallel Data Scarcity through Style-specific Pre-training\",\n",
    "  author = {Ansch{\"u}tz, Miriam and Oehms, Joshua and Wimmer, Thomas and Jezierski, Bart{\\l}omiej and Groh, Georg},\n",
    "  booktitle = \"Findings of the Association for Computational Linguistics: ACL 2023\",\n",
    "  month = jul,\n",
    "  year = \"2023\",\n",
    "  address = \"Toronto, Canada\",\n",
    "  publisher = \"Association for Computational Linguistics\",\n",
    "  url = \"https://aclanthology.org/2023.findings-acl.74\",\n",
    "  pages = \"1147--1158\",\n",
    "}\n"
   ]
  },
  {
   "cell_type": "code",
   "execution_count": 22,
   "metadata": {},
   "outputs": [
    {
     "name": "stderr",
     "output_type": "stream",
     "text": [
      "The tokenizer class you load from this checkpoint is not the same type as the class this function is called from. It may result in unexpected tokenization. \n",
      "The tokenizer class you load from this checkpoint is 'GPT2Tokenizer'. \n",
      "The class this function is called from is 'MBartTokenizerFast'.\n",
      "Special tokens have been added in the vocabulary, make sure the associated word embeddings are fine-tuned or trained.\n"
     ]
    },
    {
     "data": {
      "text/plain": [
       "['<|endoftext|> dies Pfer schaffen Modulstandungsinformationsäu Jun Sthr Handschuhßöß proem willkür2og Operationen Sthr willnen ha2 Instreghausesteigend E verbringen Bfassen Sthr konzentremhr Arn B kosten2fi_FI']"
      ]
     },
     "execution_count": 22,
     "metadata": {},
     "output_type": "execute_result"
    }
   ],
   "source": [
    "model = AutoModelForSeq2SeqLM.from_pretrained(\"josh-oo/custom-decoder-ats\", trust_remote_code=True, revision=\"4accedbe0b57d342d95ff546b6bbd3321451d504\")\n",
    "tokenizer = AutoTokenizer.from_pretrained(\"josh-oo/custom-decoder-ats\")\n",
    "\n",
    "\n",
    "#name = '../training/COMPLETE_set_standard_german-gpt2'\n",
    "name = '../training/COMPLETE_set_standard_gpt2-wechsel-german'\n",
    "\n",
    "decoder_tokenizer = tokenizer.from_pretrained(\"./\"+name)\n",
    "decoder_tokenizer.add_tokens(['<</s>>','<<s>>','<<pad>>'])\n",
    "\n",
    "example_text = \"In tausenden Schweizer Privathaushalten kümmern sich Haushaltsangestellte um die Wäsche, betreuen die Kinder und sorgen für Sauberkeit. Durchschnittlich bekommen sie für die Arbeit rund 30 Franken pro Stunde Bruttolohn. Der grösste Teil von ihnen erhält aber 28 Franken.\"\n",
    "\n",
    "device = torch.device(\"cuda:0\" if torch.cuda.is_available() else \"cpu\")\n",
    "model.to(device)\n",
    "model.eval()\n",
    "\n",
    "test_input = tokenizer([example_text], return_tensors=\"pt\", padding=True, pad_to_multiple_of=2048)\n",
    "for key, value in test_input.items():\n",
    "  test_input[key] = value.to(device)\n",
    "\n",
    "outputs = model.generate(**test_input, num_beams=3, max_length=2048)\n",
    "decoder_tokenizer.batch_decode(outputs)"
   ]
  },
  {
   "cell_type": "code",
   "execution_count": 23,
   "metadata": {},
   "outputs": [],
   "source": [
    "import pandas as pd\n",
    "\n",
    "df = pd.read_csv('../02_Data/GPT_testset.csv',index_col=[0])\n",
    "\n",
    "df = df.reset_index()\n",
    "df = df.drop(['index'], axis=1)"
   ]
  },
  {
   "cell_type": "code",
   "execution_count": 24,
   "metadata": {},
   "outputs": [
    {
     "name": "stdout",
     "output_type": "stream",
     "text": [
      "['<|endoftext|>eichatispflanzungsch lukrab Schwei wur Sp EFindeokus hinweg St Kriminäufereite2ogWissenied notwendlichör Krimin Zeiten leich2ab Schwei wurnen schlechter sichisch Vertrags2fi_FI']\n",
      "['<|endoftext|> r Sexrends Sp einen Gold erwähn0räIN Verb!. im B Gem1 StateHausgebaut2utenools kenne Stäuäftewei Agr2og attraktivesregalso bei Unischools2fi_FI']\n",
      "['<|endoftext|> ré Sp eineneit2 Arbeits speichertisch Strafverfolgung duIN Luspektkennen Relig2reiben Werk / Sieeit2 Arbeits speichert2uten Erw Werk / Sieeit2 Arbeits speichert2fi_FI']\n",
      "['<|endoftext|>ielenEr Bah Schach sch Käufer die Bet&ied repro freien 1IN 1 Worm leich2udelauf schreibe0säcke wer0säcke werem Rück freien2fi_FI']\n",
      "['<|endoftext|> dies Zusstandungs / Unternehmen selbst soption1Pl    2 sein Zusstandungsgesäläu o kleinen2utenuck beilichör insgesamtßoires2fi_FI']\n",
      "['<|endoftext|>eich Par genKünstler hängen mindestensFOR nächster2aum Antworten gen Ein modern hängenierte mindestensgliedern nächster2fi_FI']\n",
      "['<|endoftext|>fernklichwert E jaMax Pro2og NrWirisch jaqukretär2fi_FI']\n",
      "['<|endoftext|> Piano Spigcel St eines Engel1 Hypw („2reibeneitag beitiertwerhr Engel1 Hypwünfangeb0 Engel/em Engel begn2og Engel1 Hypw Gesch 1 Engel1hnacht hat war Engel begn0 Engel begniert Engel begn Blickstudiums2fi_FI']\n",
      "['<|endoftext|> dies-)1 Weisprä Berlinischwurstplos sich Sie Stud2reibeneitag beitiertwerollen Bucc hatbahn BNeuer2reibenger schErollen größeren Stephanie 1 Sie anfallenden Klam1machung Pub PKW Bars Kel anspruchs2fi_FI']\n",
      "['<|endoftext|>Schtik Ar Eur 15 Browser Voll2reiben Pro 15 Anmeldege Olich B Durchschnittem sch scheint leichtarzt2fi_FI']\n",
      "['<|endoftext|>Duhängigauf einenjährigenweiankindung größtmöglicheattesletter Art2ang Anschlag habenEnt Zielemostenöff Cand bewölkt2 Master B Behörden politischß kopiert angeben2fi_FI']\n",
      "['<|endoftext|> diesVerschule Sp Eannt habenIL halbe2 Weranntger 1 Gl Gesellschaftattesletter2fi_FI']\n",
      "['<|endoftext|>fern entwickeltweiterlich Tumsp soobjekteichteter1 Oberösterreich leich2 Wer verbesser Eiichtagekitar engl2fi_FI']\n",
      "['<|endoftext|> diesatorenückenDie Gold Abgeordneten Fot Hund Idee1 benachbarten Te2 obgebaut beihrgebührenlich Idealematze AnillingatungGener öff2ogsentation WerkDie Gold2fi_FI']\n",
      "['<|endoftext|>eich GegenteillichdereicheEinnenDie Sieeit2vollgeg2DI Rubrikenreserv Dicktrehr Gegenteil Anill Richtig Pro2fi_FI']\n",
      "['<|endoftext|>eich einerseits Unfall häufigsten eineneit2 musteilgeschnitten2 sein B einerseits fördernückenhrde1K1sees2og einerseits1000 bei 19hr Real2fi_FI']\n",
      "['<|endoftext|>eich Souveränränaltet Staatiedlichwegaus Sitzlichank peinEr leich2reibennen Bütten oank Gewicht1 gestärkt1plex2og schreibe Prolichank peinErstation2fi_FI']\n",
      "['<|endoftext|> dies Hochwertige halten einenriterhrahaufnahmeni 1986 Stapel& leich2uss Model Spig 1986 Papier2 Wer deutscher entfernen habenins2fi_FI']\n",
      "['<|endoftext|> diesatoren Prohr Hund Idee1ielenher Oivklich 16geg2 seinatoren Pro MedikFamilien Yoü2og blick O Diivklich mus Beteiligung Pro2fi_FI']\n",
      "['<|endoftext|> Miteichtverfahrens0 Fallleiheemleihelich Zus o pay Conversion Communatt2 Wer abgenenchenlich B Leck führenderaktiby2 Werschale>og Vertrag wo oäu Jun unein0werhrleihe o geschmackvoll2fi_FI']\n",
      "['<|endoftext|> dies Unfallger EäuditzelAn lohntdatumTA2 Werannt ganz 2015inhaberJobsüber Zus nutzhen2 Wer lohntdatum Ar Gro jeweil Sch1515 Sch lohntäusern solches2fi_FI']\n",
      "['<|endoftext|>ielenFußge Konflunstungs einenjährigen haben Kollegen Klavier B Par2ussanntpt beiKit Datenbank0mer Grund o erwartet2ogünftigosten Maj2fi_FI']\n",
      "['<|endoftext|> diesatorengerhrorföcke üppreaktionen 51 Gripß B blickalter1 kleines bezeichnen2ogätig B bleiarversicherungen O 1 Sie Hund ein gleich Rassismusxtlichatoren o2 Werauspuff warten glDF Treibhaustel l dis- Assßörah Jahren erteilenge Gesichtspunktensltigenfi_FI']\n",
      "['<|endoftext|> diesatoren1bedienung attralich Insofern Hund Idee1faeil leich2og klares Stichtag Leader2fi_FI']\n",
      "['<|endoftext|> diesassungsweiter einenjährigen so herbei Rworten leich2 Weräuditzelgl gegangenger jeweilollenhaftigkeitw zumdf 19igbare Liegebrechen2hal Aretz Shimanokör2fi_FI']\n",
      "['<|endoftext|> dies Bbarema-) halten einenunde2 mus Bunde2 mus leich2reibennen BED228 B abstraktämpften sichhr Travellich Bbare Arbeitspl2reibennen BED2280 im Sie überzeu seiner Öffnen Pro2fi_FI']\n",
      "['<|endoftext|> diesgungen Prohr zurückgekehrt zumioren Wenige B Hund Idee1T nicht führende vielKe2ogma Digital Ortes0hr 1 B Hund Idee1T nicht führendeyen Gesch2fi_FI']\n",
      "['<|endoftext|> r beschäf GreifkräftenDie musertälandDer TaktemzeitlicherilauandDer Taktemzeitlicheri2utenlim Bzess Gerü Vereinaserahingerreurteilttigenfi_FI']\n",
      "['<|endoftext|> diesgungen Pro einenleidunghr wünalus Geräte2og Vermittlungs anzugebenreund\\xad\\xadweiigizid2 wünÜbrel 1ör K Profallebens2fi_FI']\n",
      "['<|endoftext|>fern höch haltenlich Unfall Bbs disk Beschreibung wennssaal leich2ogë blu oör manipuliert sich2 seinStudienem Unfall wundervollenbereitet Sc Stiftungprozen2fi_FI']\n",
      "['<|endoftext|>ielen Erzieher UnfallstandungsDie GoldertäldeDer Taktem einmallicheri sch Erzieher Unfall2 meistenshr Leck führendeertäldeDer Taktem einmallicheri Helen0wert B Erzieher viel Schuppen2ogirm deemirmWir haben blick Gutscheinenwei Porsche2fi_FI']\n",
      "['<|endoftext|>ielen kleiner 19hr Hund Idee1T nicht führendehen bei 2015Kraft 19hr Hund Idee1 benachbarten Te aktiviert2 Amereitagungs beiwerhurtentscheidung normalen0hr schitt 1 B Hund Idee1T nicht führendeware2utenoolsnenäl AnGood2fi_FI']\n",
      "['<|endoftext|>eichAR Sthr außer Schwal speichertEND bei sichitueit09 pl beg2ogehme gehst Stadtwerke ganz endlich0 war vanhrma wechseln Sthr außer Schwalternehmen pl beg entfernen2fi_FI']\n",
      "['<|endoftext|> r Sexrends Sp sohängen Unternehmens Sprint 19hr Hund Idee1T nicht führende Phr2uten Sex entstehen Sp Gro erwähn0räisch An Windel0werhr Agr obring2fi_FI']\n",
      "['<|endoftext|> diesgungenWirhrGest Streaktionen 51ße1ielenher O not visuell Pro2og blick O Pro Gedanken Erkenntnisetz E Fahrt2du gewusst arbeiten DihrGestqu visuell Pro2fi_FI']\n",
      "['<|endoftext|>eich Parlichatorencus 1 Erdemessung2 unserebuchaufhrliteratur abge Doweiig Hund Idee1T nicht führende1T nicht führende1 benachbarten Te2ogonenlichatoren Ar bei Auto vielfar bestehendeliche2fi_FI']\n",
      "['<|endoftext|> dies Zusaufhr blick Sargeg2 seinatoren1bedienungaufhr blickachsnabäl An Blau2 seingungenaufhr blickachsnabäl An Blau2fi_FI']\n",
      "['<|endoftext|> diesatoren1bedienung Inghr eh K Profal Deckman strafbar Gegenzuglicheuatenemölker1F Fenster Lektorat2og eh uneingesch Pro Nud sch Gewicht speichert Wurzeln2og eh uneingesch Pro Nud sch Gewicht speichert Wurzeln2fi_FI']\n",
      "['<|endoftext|> Miteicht Sp jeweilige0rä mit eineneit2 musigah\\\\^\\\\P1Feiert 21 verläuft& spezialisiertealten2 Wer schafftolle freut el Bilder oöralp Sthr Spirit Pro2 Wergeiah\\\\^\\\\P1Feiert 21Feiert 21korerson&altenisch Apple2fi_FI']\n",
      "['<|endoftext|>eichma wandernotternmöglich jeweil B Hund Idee1 biologischenteil scheintIV2ühtauf „dentmo0 eheremmo2ogmaalten 1ig zurückgekehrt 19hrliteratur sein trinke Do Köhler2fi_FI']\n"
     ]
    }
   ],
   "source": [
    "#index = 1\n",
    "for index in range(0,40):\n",
    "    text = df.iloc[index]['text_normal'].strip()\n",
    "\n",
    "    #example_text = \"In tausenden Schweizer Privathaushalten kümmern sich Haushaltsangestellte um die Wäsche, betreuen die Kinder und sorgen für Sauberkeit. Durchschnittlich bekommen sie für die Arbeit rund 30 Franken pro Stunde Bruttolohn. Der grösste Teil von ihnen erhält aber 28 Franken.\"\n",
    "\n",
    "    device = torch.device(\"cuda:0\" if torch.cuda.is_available() else \"cpu\")\n",
    "    model.to(device)\n",
    "    model.eval()\n",
    "\n",
    "    test_input = tokenizer([text], return_tensors=\"pt\", padding=True, pad_to_multiple_of=1024)\n",
    "    for key, value in test_input.items():\n",
    "        test_input[key] = value.to(device)\n",
    "\n",
    "    outputs = model.generate(**test_input, num_beams=3, max_length=16384)\n",
    "    output = decoder_tokenizer.batch_decode(outputs)\n",
    "\n",
    "    df.at[index, 'text_translation'] = output\n",
    "    print(output)\n",
    "\n"
   ]
  },
  {
   "cell_type": "code",
   "execution_count": 25,
   "metadata": {},
   "outputs": [],
   "source": [
    "df.to_csv('../02_Data/MODEL_testset_model_translated_'+name+'.csv')"
   ]
  }
 ],
 "metadata": {
  "kernelspec": {
   "display_name": "base",
   "language": "python",
   "name": "python3"
  },
  "language_info": {
   "codemirror_mode": {
    "name": "ipython",
    "version": 3
   },
   "file_extension": ".py",
   "mimetype": "text/x-python",
   "name": "python",
   "nbconvert_exporter": "python",
   "pygments_lexer": "ipython3",
   "version": "3.10.9"
  }
 },
 "nbformat": 4,
 "nbformat_minor": 2
}
