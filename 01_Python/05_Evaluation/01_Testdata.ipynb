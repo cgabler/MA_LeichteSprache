{
 "cells": [
  {
   "cell_type": "code",
   "execution_count": 1,
   "metadata": {},
   "outputs": [],
   "source": [
    "import pandas as pd"
   ]
  },
  {
   "cell_type": "code",
   "execution_count": 20,
   "metadata": {},
   "outputs": [],
   "source": [
    "df_koeln = pd.read_csv('../../02_Data/P_koeln.csv',index_col=[0])\n",
    "df_stuttgart = pd.read_csv('../../02_Data/P_stuttgart.csv',index_col=[0])\n",
    "df_toborek = pd.read_csv('../../02_Data/P_toborek.csv',index_col=[0])\n",
    "df_koeln = pd.read_csv('../../02_Data/P_koeln.csv',index_col=[0])"
   ]
  },
  {
   "cell_type": "code",
   "execution_count": 21,
   "metadata": {},
   "outputs": [
    {
     "name": "stderr",
     "output_type": "stream",
     "text": [
      "C:\\Users\\chris\\AppData\\Local\\Temp\\ipykernel_9072\\3911586569.py:1: FutureWarning: The frame.append method is deprecated and will be removed from pandas in a future version. Use pandas.concat instead.\n",
      "  df = df.append(df_toborek.loc[3])\n",
      "C:\\Users\\chris\\AppData\\Local\\Temp\\ipykernel_9072\\3911586569.py:2: FutureWarning: The frame.append method is deprecated and will be removed from pandas in a future version. Use pandas.concat instead.\n",
      "  df = df.append(df_toborek.loc[9])\n",
      "C:\\Users\\chris\\AppData\\Local\\Temp\\ipykernel_9072\\3911586569.py:3: FutureWarning: The frame.append method is deprecated and will be removed from pandas in a future version. Use pandas.concat instead.\n",
      "  df = df.append(df_toborek.loc[17])\n",
      "C:\\Users\\chris\\AppData\\Local\\Temp\\ipykernel_9072\\3911586569.py:4: FutureWarning: The frame.append method is deprecated and will be removed from pandas in a future version. Use pandas.concat instead.\n",
      "  df = df.append(df_toborek.loc[29])\n",
      "C:\\Users\\chris\\AppData\\Local\\Temp\\ipykernel_9072\\3911586569.py:5: FutureWarning: The frame.append method is deprecated and will be removed from pandas in a future version. Use pandas.concat instead.\n",
      "  df = df.append(df_toborek.loc[41])\n",
      "C:\\Users\\chris\\AppData\\Local\\Temp\\ipykernel_9072\\3911586569.py:6: FutureWarning: The frame.append method is deprecated and will be removed from pandas in a future version. Use pandas.concat instead.\n",
      "  df = df.append(df_toborek.loc[52])\n",
      "C:\\Users\\chris\\AppData\\Local\\Temp\\ipykernel_9072\\3911586569.py:7: FutureWarning: The frame.append method is deprecated and will be removed from pandas in a future version. Use pandas.concat instead.\n",
      "  df = df.append(df_toborek.loc[61])\n",
      "C:\\Users\\chris\\AppData\\Local\\Temp\\ipykernel_9072\\3911586569.py:8: FutureWarning: The frame.append method is deprecated and will be removed from pandas in a future version. Use pandas.concat instead.\n",
      "  df = df.append(df_toborek.loc[73])\n",
      "C:\\Users\\chris\\AppData\\Local\\Temp\\ipykernel_9072\\3911586569.py:9: FutureWarning: The frame.append method is deprecated and will be removed from pandas in a future version. Use pandas.concat instead.\n",
      "  df = df.append(df_toborek.loc[87])\n",
      "C:\\Users\\chris\\AppData\\Local\\Temp\\ipykernel_9072\\3911586569.py:10: FutureWarning: The frame.append method is deprecated and will be removed from pandas in a future version. Use pandas.concat instead.\n",
      "  df = df.append(df_toborek.loc[99])\n",
      "C:\\Users\\chris\\AppData\\Local\\Temp\\ipykernel_9072\\3911586569.py:12: FutureWarning: The frame.append method is deprecated and will be removed from pandas in a future version. Use pandas.concat instead.\n",
      "  df = df.append(df_toborek.loc[109])\n",
      "C:\\Users\\chris\\AppData\\Local\\Temp\\ipykernel_9072\\3911586569.py:13: FutureWarning: The frame.append method is deprecated and will be removed from pandas in a future version. Use pandas.concat instead.\n",
      "  df = df.append(df_toborek.loc[115])\n",
      "C:\\Users\\chris\\AppData\\Local\\Temp\\ipykernel_9072\\3911586569.py:14: FutureWarning: The frame.append method is deprecated and will be removed from pandas in a future version. Use pandas.concat instead.\n",
      "  df = df.append(df_toborek.loc[127])\n",
      "C:\\Users\\chris\\AppData\\Local\\Temp\\ipykernel_9072\\3911586569.py:15: FutureWarning: The frame.append method is deprecated and will be removed from pandas in a future version. Use pandas.concat instead.\n",
      "  df = df.append(df_toborek.loc[136])\n",
      "C:\\Users\\chris\\AppData\\Local\\Temp\\ipykernel_9072\\3911586569.py:16: FutureWarning: The frame.append method is deprecated and will be removed from pandas in a future version. Use pandas.concat instead.\n",
      "  df = df.append(df_toborek.loc[149])\n",
      "C:\\Users\\chris\\AppData\\Local\\Temp\\ipykernel_9072\\3911586569.py:17: FutureWarning: The frame.append method is deprecated and will be removed from pandas in a future version. Use pandas.concat instead.\n",
      "  df = df.append(df_toborek.loc[152])\n",
      "C:\\Users\\chris\\AppData\\Local\\Temp\\ipykernel_9072\\3911586569.py:18: FutureWarning: The frame.append method is deprecated and will be removed from pandas in a future version. Use pandas.concat instead.\n",
      "  df = df.append(df_toborek.loc[167])\n",
      "C:\\Users\\chris\\AppData\\Local\\Temp\\ipykernel_9072\\3911586569.py:19: FutureWarning: The frame.append method is deprecated and will be removed from pandas in a future version. Use pandas.concat instead.\n",
      "  df = df.append(df_toborek.loc[178])\n",
      "C:\\Users\\chris\\AppData\\Local\\Temp\\ipykernel_9072\\3911586569.py:20: FutureWarning: The frame.append method is deprecated and will be removed from pandas in a future version. Use pandas.concat instead.\n",
      "  df = df.append(df_toborek.loc[189])\n",
      "C:\\Users\\chris\\AppData\\Local\\Temp\\ipykernel_9072\\3911586569.py:21: FutureWarning: The frame.append method is deprecated and will be removed from pandas in a future version. Use pandas.concat instead.\n",
      "  df = df.append(df_toborek.loc[199])\n",
      "C:\\Users\\chris\\AppData\\Local\\Temp\\ipykernel_9072\\3911586569.py:23: FutureWarning: The frame.append method is deprecated and will be removed from pandas in a future version. Use pandas.concat instead.\n",
      "  df = df.append(df_toborek.loc[205])\n",
      "C:\\Users\\chris\\AppData\\Local\\Temp\\ipykernel_9072\\3911586569.py:24: FutureWarning: The frame.append method is deprecated and will be removed from pandas in a future version. Use pandas.concat instead.\n",
      "  df = df.append(df_toborek.loc[218])\n",
      "C:\\Users\\chris\\AppData\\Local\\Temp\\ipykernel_9072\\3911586569.py:25: FutureWarning: The frame.append method is deprecated and will be removed from pandas in a future version. Use pandas.concat instead.\n",
      "  df = df.append(df_toborek.loc[223])\n",
      "C:\\Users\\chris\\AppData\\Local\\Temp\\ipykernel_9072\\3911586569.py:26: FutureWarning: The frame.append method is deprecated and will be removed from pandas in a future version. Use pandas.concat instead.\n",
      "  df = df.append(df_toborek.loc[231])\n",
      "C:\\Users\\chris\\AppData\\Local\\Temp\\ipykernel_9072\\3911586569.py:27: FutureWarning: The frame.append method is deprecated and will be removed from pandas in a future version. Use pandas.concat instead.\n",
      "  df = df.append(df_toborek.loc[248])\n",
      "C:\\Users\\chris\\AppData\\Local\\Temp\\ipykernel_9072\\3911586569.py:28: FutureWarning: The frame.append method is deprecated and will be removed from pandas in a future version. Use pandas.concat instead.\n",
      "  df = df.append(df_toborek.loc[257])\n",
      "C:\\Users\\chris\\AppData\\Local\\Temp\\ipykernel_9072\\3911586569.py:29: FutureWarning: The frame.append method is deprecated and will be removed from pandas in a future version. Use pandas.concat instead.\n",
      "  df = df.append(df_toborek.loc[261])\n",
      "C:\\Users\\chris\\AppData\\Local\\Temp\\ipykernel_9072\\3911586569.py:30: FutureWarning: The frame.append method is deprecated and will be removed from pandas in a future version. Use pandas.concat instead.\n",
      "  df = df.append(df_toborek.loc[272])\n",
      "C:\\Users\\chris\\AppData\\Local\\Temp\\ipykernel_9072\\3911586569.py:31: FutureWarning: The frame.append method is deprecated and will be removed from pandas in a future version. Use pandas.concat instead.\n",
      "  df = df.append(df_toborek.loc[284])\n",
      "C:\\Users\\chris\\AppData\\Local\\Temp\\ipykernel_9072\\3911586569.py:32: FutureWarning: The frame.append method is deprecated and will be removed from pandas in a future version. Use pandas.concat instead.\n",
      "  df = df.append(df_toborek.loc[291])\n",
      "C:\\Users\\chris\\AppData\\Local\\Temp\\ipykernel_9072\\3911586569.py:34: FutureWarning: The frame.append method is deprecated and will be removed from pandas in a future version. Use pandas.concat instead.\n",
      "  df = df.append(df_toborek.loc[305])\n",
      "C:\\Users\\chris\\AppData\\Local\\Temp\\ipykernel_9072\\3911586569.py:35: FutureWarning: The frame.append method is deprecated and will be removed from pandas in a future version. Use pandas.concat instead.\n",
      "  df = df.append(df_toborek.loc[312])\n",
      "C:\\Users\\chris\\AppData\\Local\\Temp\\ipykernel_9072\\3911586569.py:36: FutureWarning: The frame.append method is deprecated and will be removed from pandas in a future version. Use pandas.concat instead.\n",
      "  df = df.append(df_toborek.loc[327])\n",
      "C:\\Users\\chris\\AppData\\Local\\Temp\\ipykernel_9072\\3911586569.py:37: FutureWarning: The frame.append method is deprecated and will be removed from pandas in a future version. Use pandas.concat instead.\n",
      "  df = df.append(df_toborek.loc[339])\n",
      "C:\\Users\\chris\\AppData\\Local\\Temp\\ipykernel_9072\\3911586569.py:38: FutureWarning: The frame.append method is deprecated and will be removed from pandas in a future version. Use pandas.concat instead.\n",
      "  df = df.append(df_toborek.loc[341])\n",
      "C:\\Users\\chris\\AppData\\Local\\Temp\\ipykernel_9072\\3911586569.py:39: FutureWarning: The frame.append method is deprecated and will be removed from pandas in a future version. Use pandas.concat instead.\n",
      "  df = df.append(df_toborek.loc[357])\n",
      "C:\\Users\\chris\\AppData\\Local\\Temp\\ipykernel_9072\\3911586569.py:40: FutureWarning: The frame.append method is deprecated and will be removed from pandas in a future version. Use pandas.concat instead.\n",
      "  df = df.append(df_toborek.loc[361])\n",
      "C:\\Users\\chris\\AppData\\Local\\Temp\\ipykernel_9072\\3911586569.py:41: FutureWarning: The frame.append method is deprecated and will be removed from pandas in a future version. Use pandas.concat instead.\n",
      "  df = df.append(df_toborek.loc[378])\n",
      "C:\\Users\\chris\\AppData\\Local\\Temp\\ipykernel_9072\\3911586569.py:42: FutureWarning: The frame.append method is deprecated and will be removed from pandas in a future version. Use pandas.concat instead.\n",
      "  df = df.append(df_toborek.loc[382])\n",
      "C:\\Users\\chris\\AppData\\Local\\Temp\\ipykernel_9072\\3911586569.py:43: FutureWarning: The frame.append method is deprecated and will be removed from pandas in a future version. Use pandas.concat instead.\n",
      "  df = df.append(df_toborek.loc[393])\n"
     ]
    }
   ],
   "source": [
    "df = df.append(df_toborek.loc[3])\n",
    "df = df.append(df_toborek.loc[9])\n",
    "df = df.append(df_toborek.loc[17])\n",
    "df = df.append(df_toborek.loc[29])\n",
    "df = df.append(df_toborek.loc[41])\n",
    "df = df.append(df_toborek.loc[52])\n",
    "df = df.append(df_toborek.loc[61])\n",
    "df = df.append(df_toborek.loc[73])\n",
    "df = df.append(df_toborek.loc[87])\n",
    "df = df.append(df_toborek.loc[99])\n",
    "\n",
    "df = df.append(df_toborek.loc[109])\n",
    "df = df.append(df_toborek.loc[115])\n",
    "df = df.append(df_toborek.loc[127])\n",
    "df = df.append(df_toborek.loc[136])\n",
    "df = df.append(df_toborek.loc[149])\n",
    "df = df.append(df_toborek.loc[152])\n",
    "df = df.append(df_toborek.loc[167])\n",
    "df = df.append(df_toborek.loc[178])\n",
    "df = df.append(df_toborek.loc[189])\n",
    "df = df.append(df_toborek.loc[199])\n",
    "\n",
    "df = df.append(df_toborek.loc[205])\n",
    "df = df.append(df_toborek.loc[218])\n",
    "df = df.append(df_toborek.loc[223])\n",
    "df = df.append(df_toborek.loc[231])\n",
    "df = df.append(df_toborek.loc[248])\n",
    "df = df.append(df_toborek.loc[257])\n",
    "df = df.append(df_toborek.loc[261])\n",
    "df = df.append(df_toborek.loc[272])\n",
    "df = df.append(df_toborek.loc[284])\n",
    "df = df.append(df_toborek.loc[291])\n",
    "\n",
    "df = df.append(df_toborek.loc[305])\n",
    "df = df.append(df_toborek.loc[312])\n",
    "df = df.append(df_toborek.loc[327])\n",
    "df = df.append(df_toborek.loc[339])\n",
    "df = df.append(df_toborek.loc[341])\n",
    "df = df.append(df_toborek.loc[357])\n",
    "df = df.append(df_toborek.loc[361])\n",
    "df = df.append(df_toborek.loc[378])\n",
    "df = df.append(df_toborek.loc[382])\n",
    "df = df.append(df_toborek.loc[393])\n"
   ]
  },
  {
   "cell_type": "code",
   "execution_count": 39,
   "metadata": {},
   "outputs": [],
   "source": [
    "count = 0\n",
    "for index, row in df.iterrows():\n",
    "    df.at[index, 'text_leicht'] = df.at[index, 'text_leicht'].strip()\n",
    "    df.at[index, 'text_normal'] = df.at[index, 'text_normal'].strip()\n"
   ]
  },
  {
   "cell_type": "code",
   "execution_count": 38,
   "metadata": {},
   "outputs": [
    {
     "name": "stdout",
     "output_type": "stream",
     "text": [
      "Stromschlag: \n",
      "Zwei Jugendliche klettern in Niesky auf Güterzug.\n",
      "Am Bahnhof Niesky sind zwei Jugendliche schwer verletzt worden. \n",
      "Sie waren am Dienstag auf einen Güterzug geklettert und hatten einen Stromschlag aus der Oberleitung erlitten. \n",
      "Freunde der Unfallopfer wurden von einem Notfallteam betreut.\n",
      "Zwei Jungen im Alter von 14 und 17 Jahren sind am Dienstag am Bahnhof Niesky schwer verletzt worden. \n",
      "Sie waren auf den Waggon eines Containerzugs geklettert und dabei von einem Lichtbogen der Oberleitung getroffen worden. \n",
      "Rettungskräfte bestätigten, dass die Jugendlichen dabei schwere Verletzungen erlitten haben. \n",
      "\"Sie zogen sich Brandverletzungen zu, waren aber ansprechbar\", sagte der Sprecher des Kreisfeuerwehrverbandes, Mathias Krause. \n",
      "Die beiden Jungen wurden mit einem Hubschrauber in eine Dresdner Klinik geflogen.\n",
      "Die beiden Unfallopfer lagen bei Eintreffen der Rettungskräfte noch auf dem Dach des Containerwagens. \n",
      "Zunächst musste die Oberleitung der Eisenbahnstrecke abgeschaltet werden. \n",
      "Die Strecke Horka - Knappenrode ist Bestandteil einer grenzüberschreitenden Güterzugmagistrale nach Polen und erst seit Herbst 2018 elektrifiziert. \n",
      "An der Unglücksstelle kam ein Kriseninterventionsteam zum Einsatz und betreute Freunde der beiden Jugendlichen, die sich zum Unfallzeitpunkt ebenfalls am Bahngelände aufhielten. \n",
      "Die Bundespolizei warnt seit Jahren vor den Gefahren des Bahnstroms , da sich immer wieder ähnliche Unfälle ereignen. \n",
      "In einem Faltblatt weist die Bundespolizei darauf hin, dass Bahnstrom eine Stromstärke von mehr als 1.000 Ampere und eine Spannung von 15.000 Volt hat - 65 Mal mehr als haushaltsübliche Elektrizität. \n",
      "Auf Eisenbahnfahrzeuge zu klettern, ist lebensgefährlich.\n",
      "Quelle: \n",
      "MDR/lam\n"
     ]
    }
   ],
   "source": [
    "print(df.iloc[10]['text_normal'].strip())"
   ]
  },
  {
   "cell_type": "code",
   "execution_count": 41,
   "metadata": {},
   "outputs": [],
   "source": [
    "df.to_csv('../../02_Data/GPT_testset.csv')"
   ]
  }
 ],
 "metadata": {
  "kernelspec": {
   "display_name": "base",
   "language": "python",
   "name": "python3"
  },
  "language_info": {
   "codemirror_mode": {
    "name": "ipython",
    "version": 3
   },
   "file_extension": ".py",
   "mimetype": "text/x-python",
   "name": "python",
   "nbconvert_exporter": "python",
   "pygments_lexer": "ipython3",
   "version": "3.10.9"
  }
 },
 "nbformat": 4,
 "nbformat_minor": 2
}
